{
  "cells": [
    {
      "cell_type": "markdown",
      "metadata": {
        "id": "view-in-github",
        "colab_type": "text"
      },
      "source": [
        "<a href=\"https://colab.research.google.com/github/Ekaterina4177/statistics/blob/main/HW_5.ipynb\" target=\"_parent\"><img src=\"https://colab.research.google.com/assets/colab-badge.svg\" alt=\"Open In Colab\"/></a>"
      ]
    },
    {
      "cell_type": "markdown",
      "source": [
        "1. Когда используется критерий Стьюдента, а когда Z –критерий?\n",
        "\n",
        "$Z-критерий$ используется\n",
        " - когда исходные данные имеют нормальное распределение и известна дисперсия генеральной совокупности. Z-тест применяется при проверке нулевой гипотезы о том, что математическое ожидание случайной величины равно некоторому значению {\\displaystyle m}m\n",
        "\n",
        "\n",
        "\n",
        "\n",
        "$t-критерий$ \n",
        "- применяют для проверки гипотезы о равенстве генеральных средних двух неза­висимых, несвязанных выборок (так называемый двухвыборочный t-критерий)\n",
        "- когда одна и та же группа объектов порождает числовой матери­ал для проверки гипотез о средних, используется так называемый парный t-критерий. Выборки при этом называют зависимыми, связанными."
      ],
      "metadata": {
        "id": "9ZD2XCENnWJ9"
      }
    },
    {
      "cell_type": "markdown",
      "metadata": {
        "id": "R-6xFFBXnTMp"
      },
      "source": [
        "2. Утверждается, что шарики для подшипников, изготовленные автоматическим станком, имеют средний диаметр 17 мм.\n",
        "\n",
        "Используя односторонний критерий с $α=0,05$, проверить эту гипотезу, если в выборке из n=100 шариков средний диаметроказался равным 17.5 мм, а дисперсия известна и равна 4 кв. мм."
      ]
    },
    {
      "cell_type": "markdown",
      "metadata": {
        "id": "DNKcAVZinTMt"
      },
      "source": [
        "$H0: \\mu=\\mu_0=17$ \n",
        "\n",
        "$H1: \\mu>\\mu_0$"
      ]
    },
    {
      "cell_type": "markdown",
      "metadata": {
        "id": "kD05t8-vnTMu"
      },
      "source": [
        "Так как известны сигма и дисперсия генеральной совокупности, то для проверки гипотезы будем использовать $z$-критерий\n",
        "\n",
        " $z_н=\\frac{\\bar X - \\mu_0}{\\sigma/\\sqrt n}$, где $\\bar X = \\mu = 17.5$ - среднее по выборке;\n",
        "\n",
        " $\\sigma=\\sqrt 4=2$ - среднее квадратическое отклонение генеральной совокупности;\n",
        " \n",
        " $n=100$ - размер выборки.\n",
        " \n",
        "\n",
        "\n",
        "\n"
      ]
    },
    {
      "cell_type": "code",
      "execution_count": null,
      "metadata": {
        "id": "sjDSDRRknTMv",
        "outputId": "957a0e39-5ec1-4d7f-a65f-45a41489c974"
      },
      "outputs": [
        {
          "name": "stdout",
          "output_type": "stream",
          "text": [
            "Наблюдаемое значение z-критерия:  2.5000\n"
          ]
        }
      ],
      "source": [
        "z=(17.5-17)/0.2\n",
        "print(f'Наблюдаемое значение z-критерия: {z: .4f}')"
      ]
    },
    {
      "cell_type": "code",
      "execution_count": 2,
      "metadata": {
        "colab": {
          "base_uri": "https://localhost:8080/"
        },
        "id": "adS3gmANnTMw",
        "outputId": "40fdd27b-874f-44b9-f548-d021ad19184a"
      },
      "outputs": [
        {
          "output_type": "stream",
          "name": "stdout",
          "text": [
            "Табличное значение z-критерия:  1.6449\n"
          ]
        }
      ],
      "source": [
        "import numpy as np\n",
        "import scipy.stats as stats\n",
        "zt=stats.norm.ppf(0.95)\n",
        "print(f'Табличное значение z-критерия: {zt: .4f}')"
      ]
    },
    {
      "cell_type": "markdown",
      "metadata": {
        "id": "XcbRhvtgnTMw"
      },
      "source": [
        "ОТВЕТ:\n",
        "\n",
        "$z_н>z_t$ - отвергаем нулевую гипотезу на уровне значимости $\\alpha=0.05$"
      ]
    },
    {
      "cell_type": "markdown",
      "source": [
        "3. Продавец утверждает, что средний вес пачки печенья\n",
        "составляет 200 г.\n",
        "\n",
        "Из партии извлечена выборка из 10 пачек. Вес каждой пачки составляет:\n",
        "\n",
        "202, 203, 199, 197, 195, 201, 200, 204, 194, 190.\n",
        "\n",
        "Известно, что их веса распределены нормально.\n",
        "\n",
        "Верно ли утверждение продавца, если учитывать, что доверительная вероятность равна\n",
        "99%? (Провести двусторонний тест.)"
      ],
      "metadata": {
        "id": "TmbHAlkJnfUA"
      }
    },
    {
      "cell_type": "markdown",
      "source": [
        "$H0: \\mu=\\mu_0=200$\n",
        "\n",
        "$H1: \\mu\\neq\\mu_0$\n",
        "\n",
        "$\\alpha = 1 - 0.99 = 0.01$"
      ],
      "metadata": {
        "id": "soYha3MonqTJ"
      }
    },
    {
      "cell_type": "code",
      "source": [
        "pack_weight=np.array([202, 203, 199, 197, 195, 201, 200, 204, 194, 190])\n",
        "tn=(np.mean(pack_weight)-200)/(np.std(pack_weight,ddof=1)/len(pack_weight)**0.5)\n",
        "print(f'Наблюдаемое значение t-критерия: {tn: .4f}')"
      ],
      "metadata": {
        "colab": {
          "base_uri": "https://localhost:8080/"
        },
        "id": "R1X938RonrR_",
        "outputId": "db556cc7-37f2-4df4-b093-f74899c2c0f1"
      },
      "execution_count": 3,
      "outputs": [
        {
          "output_type": "stream",
          "name": "stdout",
          "text": [
            "Наблюдаемое значение t-критерия: -1.0651\n"
          ]
        }
      ]
    },
    {
      "cell_type": "markdown",
      "source": [
        "$t_н = -1.0651$\n",
        "\n",
        "$t_т$ для $\\alpha/2=0.01/2=0.005$"
      ],
      "metadata": {
        "id": "nR5RoUdxnw5o"
      }
    },
    {
      "cell_type": "code",
      "source": [
        "tt=stats.t.ppf(0.995,len(pack_weight)-1)\n",
        "print(f'Табличное значение t-критерия: {tt: .4f}')"
      ],
      "metadata": {
        "id": "sGUzWSAtn-3p"
      },
      "execution_count": null,
      "outputs": []
    },
    {
      "cell_type": "markdown",
      "source": [
        "Так как $|t_н|<t_t$ - принимаем нулевую гипотезу на уровне значимости $\\alpha = 0.01$"
      ],
      "metadata": {
        "id": "9RroHSI_n_aj"
      }
    },
    {
      "cell_type": "markdown",
      "source": [
        " 4. Есть ли статистически значимые различия между средним ростом\n",
        "дочерей и матерей?\n",
        "Рост матерей 172, 177, 158, 170, 178,175, 164, 160, 169, 165\n",
        "Рост взрослых дочерей: 173, 175, 162, 174, 175, 168, 155, 170, 160, 163"
      ],
      "metadata": {
        "id": "ORWKhrLJoyh5"
      }
    },
    {
      "cell_type": "code",
      "source": [
        "import math\n",
        "import numpy as np\n",
        "from numpy import linalg as LA\n",
        "from scipy import stats\n",
        "import statistics"
      ],
      "metadata": {
        "id": "9E4pb3Seoyyi"
      },
      "execution_count": 4,
      "outputs": []
    },
    {
      "cell_type": "code",
      "source": [
        "def equalmean(x,y):\n",
        "    dif=mothers-daughters\n",
        "    n=len(dif)\n",
        "    mean_dif=dif.mean()\n",
        "    var_dif=dif.var()*n/(n-1)\n",
        "    t=mean_dif/math.sqrt(var_dif)*math.sqrt(n)\n",
        "    p = 1 - math.fabs(stats.t.cdf(t,n-1) - stats.t.cdf(-t,n-1))\n",
        "    return t,p"
      ],
      "metadata": {
        "id": "oaY5z-6co36q"
      },
      "execution_count": 6,
      "outputs": []
    },
    {
      "cell_type": "code",
      "source": [
        "mothers=np.array([172,177,158,170,178,175,164,160,169,165])\n",
        "daughters=np.array([173,175,162,174,175,168,155,170,160,163])\n",
        "t,p=equalmean(mothers,daughters)\n",
        "print(\"t-статистика критерия = \",t)\n",
        "print(\"p-уровень = \",p)\n",
        "alpha=float(input(\"Введите уровень значимости \"))\n",
        "if p>alpha:\n",
        "    print(\"статистически значимых различий в росте матерей и дочерей нет\")\n",
        "else:\n",
        "    print(\"есть статистически значимые различия в росте матерей и дочерей\")\n",
        "print(\"\\n Проверка с помощью встроенной функции\")\n",
        "res=stats.ttest_rel (a=mothers, b=daughters)\n",
        "print(\"t-статистика критерия = \",res.statistic)\n",
        "print(\"p-уровень = \",res.pvalue)"
      ],
      "metadata": {
        "colab": {
          "base_uri": "https://localhost:8080/"
        },
        "id": "wPJ2ePvyo_l8",
        "outputId": "cf5b77c5-1ea5-43e1-cbc7-82873cb30f6e"
      },
      "execution_count": 7,
      "outputs": [
        {
          "output_type": "stream",
          "name": "stdout",
          "text": [
            "t-статистика критерия =  0.664847853143198\n",
            "p-уровень =  0.5228168632983574\n",
            "Введите уровень значимости 5\n",
            "есть статистически значимые различия в росте матерей и дочерей\n",
            "\n",
            " Проверка с помощью встроенной функции\n",
            "t-статистика критерия =  0.6648478531431979\n",
            "p-уровень =  0.5228168632983574\n"
          ]
        }
      ]
    }
  ],
  "metadata": {
    "kernelspec": {
      "display_name": "Python 3",
      "language": "python",
      "name": "python3"
    },
    "language_info": {
      "codemirror_mode": {
        "name": "ipython",
        "version": 3
      },
      "file_extension": ".py",
      "mimetype": "text/x-python",
      "name": "python",
      "nbconvert_exporter": "python",
      "pygments_lexer": "ipython3",
      "version": "3.10.7"
    },
    "orig_nbformat": 4,
    "vscode": {
      "interpreter": {
        "hash": "6847c98a8f86b01c6a19c518cd2f366693b80566b266804d5ca763cbb223f52b"
      }
    },
    "colab": {
      "provenance": [],
      "include_colab_link": true
    }
  },
  "nbformat": 4,
  "nbformat_minor": 0
}
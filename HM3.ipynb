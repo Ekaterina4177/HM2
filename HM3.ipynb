{
  "nbformat": 4,
  "nbformat_minor": 0,
  "metadata": {
    "colab": {
      "provenance": [],
      "authorship_tag": "ABX9TyNyT47/uNvqtA8qBEU/9w6F",
      "include_colab_link": true
    },
    "kernelspec": {
      "name": "python3",
      "display_name": "Python 3"
    },
    "language_info": {
      "name": "python"
    }
  },
  "cells": [
    {
      "cell_type": "markdown",
      "metadata": {
        "id": "view-in-github",
        "colab_type": "text"
      },
      "source": [
        "<a href=\"https://colab.research.google.com/github/Ekaterina4177/statistics/blob/main/HM3.ipynb\" target=\"_parent\"><img src=\"https://colab.research.google.com/assets/colab-badge.svg\" alt=\"Open In Colab\"/></a>"
      ]
    },
    {
      "cell_type": "markdown",
      "source": [
        "1. Даны значения зарплат из выборки выпускников: 100, 80, 75, 77, 89, 33, 45, 25, 65, 17, 30, 24, 57, 55, 70, 75, 65, 84, 90, 150. Посчитать (желательно без использования статистических методов наподобие std, var, mean) среднее арифметическое, среднее квадратичное отклонение, смещенную и несмещенную оценки дисперсий для данной выборки."
      ],
      "metadata": {
        "id": "dNb3Y5vFBiDf"
      }
    },
    {
      "cell_type": "code",
      "execution_count": 1,
      "metadata": {
        "id": "movCs2sJBUCI"
      },
      "outputs": [],
      "source": [
        "import numpy as np\n",
        "from math import factorial"
      ]
    },
    {
      "cell_type": "code",
      "source": [
        "arr=np.array([100, 80, 75, 77, 89, 33, 45, 25, 65, 17, 30, 24, 57, 55, 70, 75, 65, 84, 90, 150])\n",
        "arr"
      ],
      "metadata": {
        "colab": {
          "base_uri": "https://localhost:8080/"
        },
        "id": "oPNCo5a9B6sv",
        "outputId": "cb0bf927-9fa1-498d-e7d8-e72513e06e81"
      },
      "execution_count": 2,
      "outputs": [
        {
          "output_type": "execute_result",
          "data": {
            "text/plain": [
              "array([100,  80,  75,  77,  89,  33,  45,  25,  65,  17,  30,  24,  57,\n",
              "        55,  70,  75,  65,  84,  90, 150])"
            ]
          },
          "metadata": {},
          "execution_count": 2
        }
      ]
    },
    {
      "cell_type": "markdown",
      "source": [
        "Расчет среднего арифметического М(Х):"
      ],
      "metadata": {
        "id": "28Zj_cVoBgN7"
      }
    },
    {
      "cell_type": "code",
      "source": [
        "def srar(array):\n",
        "    return sum(array)/len(array)\n",
        "print(f'Среднее арифметическое М(Х) = {srar(arr): .2f}')"
      ],
      "metadata": {
        "colab": {
          "base_uri": "https://localhost:8080/"
        },
        "id": "6mix-F3PCHjZ",
        "outputId": "c70bda02-0ed9-4024-e46e-06560b0f1604"
      },
      "execution_count": 4,
      "outputs": [
        {
          "output_type": "stream",
          "name": "stdout",
          "text": [
            "Среднее арифметическое для данной выборки М(Х) =  65.30\n"
          ]
        }
      ]
    },
    {
      "cell_type": "markdown",
      "source": [
        "Расчет среднего квадратичного отклонения выборки:"
      ],
      "metadata": {
        "id": "39sz8PvJCk_c"
      }
    },
    {
      "cell_type": "code",
      "source": [
        "def mean_quad(array):\n",
        "    square_dev=(array-srar(array))**2\n",
        "    return (sum(square_dev)/len(square_dev))**(1/2)\n",
        "print(f'Среднее квадратичное отклонение = {mean_quad(arr): .2f}')"
      ],
      "metadata": {
        "colab": {
          "base_uri": "https://localhost:8080/"
        },
        "id": "S9PbJHtYC_VT",
        "outputId": "505a02ae-27b5-4277-81e7-d60533ab4ce6"
      },
      "execution_count": 6,
      "outputs": [
        {
          "output_type": "stream",
          "name": "stdout",
          "text": [
            "Среднее квадратичное отклонение =  30.82\n"
          ]
        }
      ]
    },
    {
      "cell_type": "markdown",
      "source": [
        "Расчет смещенной оценки дисперсии:"
      ],
      "metadata": {
        "id": "L7DrxMybEEub"
      }
    },
    {
      "cell_type": "code",
      "source": [
        "def dispers(array, no_off=False):\n",
        "    square_dev=(array-srar(array))**2\n",
        "    return sum(square_dev)/(len(square_dev)-1) if no_off else sum(square_dev)/len(square_dev)\n",
        "print(f'Смещенная оценка дисперсии = {dispers(arr): .2f}\\n'\n",
        "      f'Несмещенная оценка дисперсии = {dispers(arr, True): .2f}')"
      ],
      "metadata": {
        "colab": {
          "base_uri": "https://localhost:8080/"
        },
        "id": "SHSIXiszEJf7",
        "outputId": "e9f966dc-b481-45b9-f6a2-300627494b63"
      },
      "execution_count": 11,
      "outputs": [
        {
          "output_type": "stream",
          "name": "stdout",
          "text": [
            "Смещенная оценка дисперсии =  950.11\n",
            "Несмещенная оценка дисперсии =  1000.12\n"
          ]
        }
      ]
    },
    {
      "cell_type": "markdown",
      "source": [
        "2. В первом ящике находится 8 мячей, из которых 5 - белые. Во втором ящике - 12 мячей, из которых 5 белых. Из первого ящика вытаскивают случайным образом два мяча, из второго - 4. Какова вероятность того, что 3 мяча белые?"
      ],
      "metadata": {
        "id": "yJGIcMWKEmts"
      }
    },
    {
      "cell_type": "markdown",
      "source": [
        "Пусть А - искомое событие. Это событие может произойти следующими способами:\n",
        "\n",
        "  А1 - из первой корзины не вытащили ни одного белого мяча, из второй вытащили 3 белых мяча;\n",
        "\n",
        "  А2 - из первой корзины вытащили 1 белый мяч, из второй вытащили 2 белых мяча;\n",
        "\n",
        "  А3 - из первой корзины вытащили 2 белых мяча, из второй вытащили 1 белый мяч.\n",
        "\n",
        "  Вероятность события  будет определяться как сумма вероятностей этих событий P(A)."
      ],
      "metadata": {
        "id": "Pgz-QdCfEyYT"
      }
    },
    {
      "cell_type": "code",
      "source": [
        "def combinations(n,k):\n",
        "    return factorial(n)/(factorial(k)*factorial(n-k))\n",
        "A1=(combinations(3,2)/combinations(8,2))*(combinations(5,3)*combinations(7,1)/combinations(12,4))\n",
        "print(f'Вероятность события A1 = {A1: .4f}')"
      ],
      "metadata": {
        "colab": {
          "base_uri": "https://localhost:8080/"
        },
        "id": "i8sOjJ1pErE9",
        "outputId": "368c244b-125d-44a6-df2e-26e58e83add9"
      },
      "execution_count": 18,
      "outputs": [
        {
          "output_type": "stream",
          "name": "stdout",
          "text": [
            "Вероятность события A1 =  0.0152\n"
          ]
        }
      ]
    },
    {
      "cell_type": "code",
      "source": [
        "A2=(combinations(5,1)*combinations(3,1)*combinations(5,2)*combinations(7,2))/(combinations(8,2)*combinations(12,4))\n",
        "print(f'Вероятность события A2 = {A2: .4f}')"
      ],
      "metadata": {
        "colab": {
          "base_uri": "https://localhost:8080/"
        },
        "id": "VpqTFDGTFJ5h",
        "outputId": "0eb26121-b2e2-420e-d8e8-624d5dca3c2b"
      },
      "execution_count": 20,
      "outputs": [
        {
          "output_type": "stream",
          "name": "stdout",
          "text": [
            "Вероятность события A2 =  0.2273\n"
          ]
        }
      ]
    },
    {
      "cell_type": "code",
      "source": [
        "A3=(combinations(5,2)*combinations(5,1)*combinations(7,3))/(combinations(8,2)*combinations(12,4))\n",
        "print(f'Вероятность события A3 = {A3: .4f}')"
      ],
      "metadata": {
        "colab": {
          "base_uri": "https://localhost:8080/"
        },
        "id": "0lQp772dFyJx",
        "outputId": "5d493446-d177-4bdf-b6aa-fb49487d65f1"
      },
      "execution_count": 21,
      "outputs": [
        {
          "output_type": "stream",
          "name": "stdout",
          "text": [
            "Вероятность события A3 =  0.1263\n"
          ]
        }
      ]
    },
    {
      "cell_type": "code",
      "source": [
        "print(f'Вероятность того, что из вытащенных мячей 3 белые Р(А) = {A1+A2+A3: .4f}')"
      ],
      "metadata": {
        "colab": {
          "base_uri": "https://localhost:8080/"
        },
        "id": "BW_-3D4NGDe-",
        "outputId": "e3aee4b7-0548-4f13-986b-318ee7f1e8d8"
      },
      "execution_count": 22,
      "outputs": [
        {
          "output_type": "stream",
          "name": "stdout",
          "text": [
            "Вероятность того, что из вытащенных мячей 3 белые Р(А) =  0.3687\n"
          ]
        }
      ]
    },
    {
      "cell_type": "markdown",
      "source": [
        "3. На соревновании по биатлону один из трех спортсменов стреляет и попадает в мишень. Вероятность попадания для первого спортсмена равна 0.9, для второго — 0.8, для третьего — 0.6. \n",
        "Найти вероятность P того, что выстрел произведен: \n",
        "\n",
        "  a) первым спортсменом \n",
        "\n",
        "  б) вторым спортсменом \n",
        "\n",
        "  в) третьим спортсменом."
      ],
      "metadata": {
        "id": "GpGyCHtxGTo2"
      }
    },
    {
      "cell_type": "markdown",
      "source": [
        "1) Событие А - цель поражена;\n",
        "\n",
        "2) Событие Б1 - выстрел произведен первым спортсменом;\n",
        "\n",
        "3) Событие Б2 - выстрел произведен вторым спортсменом;\n",
        "\n",
        "4) Событие Б3 - выстрел произведен третьим спортсменом. \n"
      ],
      "metadata": {
        "id": "7lHe492mGn1L"
      }
    },
    {
      "cell_type": "code",
      "source": [
        "PB=1/3\n",
        "PA=PB*0.9+PB*0.8+PB*0.6\n",
        "print(f'Полная вероятность наступления события Р(А) = {PA: .4f}')"
      ],
      "metadata": {
        "colab": {
          "base_uri": "https://localhost:8080/"
        },
        "id": "9un12lU2HTV1",
        "outputId": "6811b117-50a4-47c6-cc67-ce4227b8f63a"
      },
      "execution_count": 23,
      "outputs": [
        {
          "output_type": "stream",
          "name": "stdout",
          "text": [
            "Полная вероятность наступления события Р(А) =  0.7667\n"
          ]
        }
      ]
    },
    {
      "cell_type": "markdown",
      "source": [
        "Теперь, исходя из того, что событие А уже произошло, с помощью формулы оценим вероятность трех других событий Б.\n"
      ],
      "metadata": {
        "id": "hjVQ-Ei6Hen7"
      }
    },
    {
      "cell_type": "code",
      "source": [
        "PAB1=PB*0.9/PA\n",
        "PAB2=PB*0.8/PA\n",
        "PAB3=PB*0.6/PA\n",
        "print(f'Выстрел произвёл первый спортсмен: {PAB1: .4f};\\n'\n",
        "      f'Выстрел произвёл второй спортсмен: {PAB2: .4f};\\n'\n",
        "      f'Выстрел произвёл третий спортсмен: {PAB3: .4f}.')"
      ],
      "metadata": {
        "colab": {
          "base_uri": "https://localhost:8080/"
        },
        "id": "3Oe4R5HdHpmY",
        "outputId": "dffebea8-d116-4fb1-82aa-ee7f41bc5d97"
      },
      "execution_count": 26,
      "outputs": [
        {
          "output_type": "stream",
          "name": "stdout",
          "text": [
            "Выстрел произвёл первый спортсмен:  0.3913;\n",
            "Выстрел произвёл второй спортсмен:  0.3478;\n",
            "Выстрел произвёл третий спортсмен:  0.2609.\n"
          ]
        }
      ]
    },
    {
      "cell_type": "markdown",
      "source": [
        "4. В университет на факультеты A и B поступило равное количество студентов, а на факультет C студентов поступило столько же, сколько на A и B вместе. Вероятность того, что студент факультета A сдаст первую сессию, равна 0.8. Для студента факультета B эта вероятность равна 0.7, а для студента факультета C - 0.9. Студент сдал первую сессию.\n",
        "\n",
        "  Какова вероятность, что он учится: \n",
        "\n",
        "  a) на факультете A \n",
        "\n",
        "  б) на факультете B \n",
        "\n",
        "  в) на факультете C?"
      ],
      "metadata": {
        "id": "SLc6kX4sH5Z8"
      }
    },
    {
      "cell_type": "markdown",
      "source": [
        "Пусть n - количество студентов на факультете A, тогда на факультете B учится n студентов, а на факультете C - 2n студентов.\n",
        "Введем события S(A), S(B), S(C), что сессию сдаёт студент факультетов A, B, и С и событие D - сессия сдана.\n",
        "события S(A), S(B), S(C) образуют полную группу событий. \n",
        " \n",
        "Условные вероятности Наступления события D, при условии что произошло одно из событий S даны в условии задачи.\n",
        "Полная вероятность наступления события P(D) исходя из формулы полной вероятности:"
      ],
      "metadata": {
        "id": "R-iHFl1LIZvK"
      }
    },
    {
      "cell_type": "code",
      "source": [
        "PD=0.25*0.8+0.25*0.7+0.5*0.9\n",
        "print(f'Полная вероятность наступления события P(D) = {PD}.')"
      ],
      "metadata": {
        "colab": {
          "base_uri": "https://localhost:8080/"
        },
        "id": "2PTCtvoEJZiY",
        "outputId": "89424f39-9089-4458-9e7e-82034894e5d4"
      },
      "execution_count": 27,
      "outputs": [
        {
          "output_type": "stream",
          "name": "stdout",
          "text": [
            "Полная вероятность наступления события P(D) = 0.825.\n"
          ]
        }
      ]
    },
    {
      "cell_type": "markdown",
      "source": [
        "По формуле Байеса вычислим вероятность того, на каком факультете учится студент, успешно сдавший сессию:"
      ],
      "metadata": {
        "id": "Xi42DNtQJhp4"
      }
    },
    {
      "cell_type": "code",
      "source": [
        "PDSA=0.25*0.8/PD\n",
        "PDSB=0.25*0.7/PD\n",
        "PDSC=0.5*0.9/PD\n",
        "print(f'Вероятность того, что студент учится на факультете А: {PDSA: .4f};\\n'\n",
        "      f'Вероятность того, что студент учится на факультете B: {PDSB: .4f};\\n'\n",
        "      f'Вероятность того, что студент учится на факультете C: {PDSC: .4f}.')"
      ],
      "metadata": {
        "colab": {
          "base_uri": "https://localhost:8080/"
        },
        "id": "S2SEyS5BJktV",
        "outputId": "9118402b-c713-436b-aea8-c99ca94705c8"
      },
      "execution_count": 29,
      "outputs": [
        {
          "output_type": "stream",
          "name": "stdout",
          "text": [
            "Вероятность того, что студент учится на факультете А:  0.2424;\n",
            "Вероятность того, что студент учится на факультете B:  0.2121;\n",
            "Вероятность того, что студент учится на факультете C:  0.5455.\n"
          ]
        }
      ]
    },
    {
      "cell_type": "markdown",
      "source": [
        "5. Устройство состоит из трех деталей. Для первой детали вероятность выйти из строя в первый месяц равна 0.1, для второй - 0.2, для третьей - 0.25. \n",
        "\n",
        "  Какова вероятность того, что в первый месяц выйдут из строя: \n",
        "\n",
        "  а) все детали \n",
        "\n",
        "  б) только две детали \n",
        "\n",
        "  в) хотя бы одна деталь \n",
        "\n",
        "  г) от одной до двух деталей?"
      ],
      "metadata": {
        "id": "HR8E-dhHJ2Va"
      }
    },
    {
      "cell_type": "markdown",
      "source": [
        "Введем следующие события:  \n",
        "   а) Событие $A_1$-вышла из строя первая деталь, по условию задачи-вероятность этого события: $P(A_1)=0.1$;  \n",
        "   б) Событие $\\bar A_1$-противоположное событию $A_1$ - первая деталь не вышла из строя, вероятность этого события: $P(\\bar A_1)=1-P(A_1)=1-0.1=0,9$;  \n",
        "   в) Событие $A_2$-вышла из строя вторая деталь, по условию задачи-вероятность этого события: $P(A_2)=0.2$;  \n",
        "   г)  Событие $\\bar A_2$-противоположное событию $A_2$ - вторая деталь не вышла из строя, вероятность этого события: $P(\\bar A_2)=1-P(A_2)=1-0.2=0,8$;  \n",
        "   д) Событие $A_3$-вышла из строя первая деталь, по условию задачи-вероятность этого события: $P(A_3)=0.25$;  \n",
        "   е) Событие $\\bar A_3$-противоположное событию $A_3$ - третья деталь не вышла из строя, вероятность этого события: $P(\\bar A_3)=1-P(A_3)=1-0.25=0,9$;  \n",
        "   \n",
        "---  \n",
        "а) Для того, чтобы произошло событие \"вышли из строя все детали\", необходимо, чтобы **одновременно** произошли события $A_1$, $A_2$, и $A_3$. А вероятностью этого события $P(3)$ будет произведением вероятностей этих событий.  \n",
        "$P(3)=P(A_1)\\cdot P(A_2)\\cdot P(A_3)=0.1\\cdot 0.2\\cdot 0.25$\n",
        "   "
      ],
      "metadata": {
        "id": "VD42aGTfKE7D"
      }
    },
    {
      "cell_type": "code",
      "source": [
        "P3=0.1*0.2*0.25\n",
        "print(f'Вероятность того, что из строя выйдут все детали Р(3) = {P3: .4f}')"
      ],
      "metadata": {
        "colab": {
          "base_uri": "https://localhost:8080/"
        },
        "id": "ydn17tLRK3qu",
        "outputId": "94635c7b-9bd4-4e8f-a986-c5c5ed68514c"
      },
      "execution_count": 30,
      "outputs": [
        {
          "output_type": "stream",
          "name": "stdout",
          "text": [
            "Вероятность того, что из строя выйдут все детали Р(3) =  0.0050\n"
          ]
        }
      ]
    },
    {
      "cell_type": "markdown",
      "source": [
        "б) Для того, чтобы произошло событие  \"вышли из строя 2 детали\", необходимо что бы случилось **одна из** следующих комбинаций событий:  \n",
        "   1. Произошли события $A_1$ **и** $A_2$ **и** $\\bar A_3$;  \n",
        "   2. Произошли события $A_1$ **и** $A_3$ **и** $\\bar A_2$;  \n",
        "   3. Произошли события $A_2$ **и** $A_3$ **и** $\\bar A_1$. "
      ],
      "metadata": {
        "id": "I8FwDIm_LB2M"
      }
    },
    {
      "cell_type": "code",
      "source": [
        "P0=0.9*0.8*0.75\n",
        "print(f'Вероятность того, что из строя не выйдет ни одной детали Р(0) = {P0: .4f}')"
      ],
      "metadata": {
        "colab": {
          "base_uri": "https://localhost:8080/"
        },
        "id": "IRBEQLfvLDdE",
        "outputId": "65cde02c-103b-4f17-f61f-447a64e619d8"
      },
      "execution_count": 31,
      "outputs": [
        {
          "output_type": "stream",
          "name": "stdout",
          "text": [
            "Вероятность того, что из строя не выйдет ни одной детали Р(0) =  0.5400\n"
          ]
        }
      ]
    },
    {
      "cell_type": "markdown",
      "source": [
        "в) Событие \"выйдет из строя хотя бы одна деталь\" можно рассмотреть как противоположное событию \"не вышло из строя ни одной детали\"."
      ],
      "metadata": {
        "id": "R_WR6tImLHse"
      }
    },
    {
      "cell_type": "code",
      "source": [
        "P0=0.9*0.8*0.75\n",
        "print(f'Вероятность того, что из строя не выйдет ни одной детали Р(0) = {P0: .4f}')"
      ],
      "metadata": {
        "colab": {
          "base_uri": "https://localhost:8080/"
        },
        "id": "vqTCzSfNLpZA",
        "outputId": "96faec7f-fe69-4eab-d575-c406495b3979"
      },
      "execution_count": 33,
      "outputs": [
        {
          "output_type": "stream",
          "name": "stdout",
          "text": [
            "Вероятность того, что из строя не выйдет ни одной детали Р(0) =  0.5400\n"
          ]
        }
      ]
    },
    {
      "cell_type": "code",
      "source": [
        "P_0=1-P0\n",
        "print(f'Вероятность того, что выйдет из строя хотя бы одна деталь Р(>=1) = {P_0: .4f}')"
      ],
      "metadata": {
        "colab": {
          "base_uri": "https://localhost:8080/"
        },
        "id": "b_uEJIpKLKO6",
        "outputId": "66485558-0db4-4f36-9631-edd246dc9747"
      },
      "execution_count": 32,
      "outputs": [
        {
          "output_type": "stream",
          "name": "stdout",
          "text": [
            "Вероятность того, что выйдет из строя хотя бы одна деталь Р(>=1) =  0.4600\n"
          ]
        }
      ]
    },
    {
      "cell_type": "markdown",
      "source": [
        "г) Событие \"из строя выйдут от одной до двух деталей\" произойдет при наступлении события \"из строя выйдет одна деталь\" **или** из строя выйдут 2 детали, следовательно его вероятность будет равна сумме вероятностей этих событий: $P(1,2)=P(1)+P(2)$  \n",
        "$P(2)=0.08$, найдем $P(1)$:  "
      ],
      "metadata": {
        "id": "l33LueAuL0So"
      }
    },
    {
      "cell_type": "code",
      "source": [
        "P1=0.1*0.8*0.75+0.2*0.9*0.75+0.25*0.9*0.8\n",
        "print(f'Вероятность того, что выйдет из строя одна деталь Р(1) = {P1: .4f}')"
      ],
      "metadata": {
        "colab": {
          "base_uri": "https://localhost:8080/"
        },
        "id": "c7By3vCML2wl",
        "outputId": "cc1b6e7a-404c-434e-9716-d712f42ae217"
      },
      "execution_count": 34,
      "outputs": [
        {
          "output_type": "stream",
          "name": "stdout",
          "text": [
            "Вероятность того, что выйдет из строя одна деталь Р(1) =  0.3750\n"
          ]
        }
      ]
    }
  ]
}
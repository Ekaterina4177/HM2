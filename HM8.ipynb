{
  "nbformat": 4,
  "nbformat_minor": 0,
  "metadata": {
    "colab": {
      "provenance": [],
      "authorship_tag": "ABX9TyNqPBn1A353ZLDlSWUt8/+0",
      "include_colab_link": true
    },
    "kernelspec": {
      "name": "python3",
      "display_name": "Python 3"
    },
    "language_info": {
      "name": "python"
    }
  },
  "cells": [
    {
      "cell_type": "markdown",
      "metadata": {
        "id": "view-in-github",
        "colab_type": "text"
      },
      "source": [
        "<a href=\"https://colab.research.google.com/github/Ekaterina4177/statistics/blob/main/HM8.ipynb\" target=\"_parent\"><img src=\"https://colab.research.google.com/assets/colab-badge.svg\" alt=\"Open In Colab\"/></a>"
      ]
    },
    {
      "cell_type": "markdown",
      "source": [
        "**Провести дисперсионный анализ для определения того, есть ли различия среднего роста среди взрослых футболистов, хоккеистов и штангистов.\n",
        "Даны значения роста в трех группах случайно выбранных спортсменов:**\n",
        "\n",
        "**Футболисты: 173, 175, 180, 178, 177, 185, 183, 182.**\n",
        "\n",
        "**Хоккеисты: 177, 179, 180, 188, 177, 172, 171, 184, 180.**\n",
        "\n",
        "**Штангисты: 172, 173, 169, 177, 166, 180, 178, 177, 172, 166, 170.**"
      ],
      "metadata": {
        "id": "R0DLmZzP2prJ"
      }
    },
    {
      "cell_type": "markdown",
      "source": [
        "Сформулируем нулевую гипотезу:  \n",
        "$H0 : \\mu_1=\\mu_2=\\mu_3$  т.е. средний рост спортсмена не зависит от вида спорта, которым он занимается(из представленных трех).  \n",
        "Альтернативная гипотеза:  \n",
        "$H1: \\mu_1\\neq\\mu_2\\neq\\mu_3$ т.е. средний рост спортсмена зависит от выбранного им спорта."
      ],
      "metadata": {
        "id": "AxfxEiyU3E9d"
      }
    },
    {
      "cell_type": "code",
      "source": [
        "import numpy as np\n",
        "import pandas as pd\n",
        "from scipy import stats\n",
        "footballes = np.array([173, 175, 180, 178, 177, 185, 183, 182])\n",
        "hockey = np.array([177, 179, 180, 188, 177, 172, 171, 184, 180])\n",
        "weightlifters = np.array([172, 173, 169, 177, 166, 180, 178, 177, 172, 166, 170])\n",
        "stats.f_oneway(footballes, hockey, weightlifters)"
      ],
      "metadata": {
        "colab": {
          "base_uri": "https://localhost:8080/"
        },
        "id": "jH88hBXv3FQ5",
        "outputId": "90f0bf57-c093-4d6b-e456-d65e614fc8a8"
      },
      "execution_count": 5,
      "outputs": [
        {
          "output_type": "execute_result",
          "data": {
            "text/plain": [
              "F_onewayResult(statistic=5.500053450812596, pvalue=0.010482206918698694)"
            ]
          },
          "metadata": {},
          "execution_count": 5
        }
      ]
    },
    {
      "cell_type": "markdown",
      "source": [
        "pvalue=0.010482206918698694 < 0.05 - Отвергаем H0: Различий нет, принимаем H1: Различия есть"
      ],
      "metadata": {
        "id": "UFQ2vvQA3NQc"
      }
    }
  ]
}
{
  "nbformat": 4,
  "nbformat_minor": 0,
  "metadata": {
    "colab": {
      "provenance": [],
      "authorship_tag": "ABX9TyN82sKgAd3tSaq4IfCjPanI",
      "include_colab_link": true
    },
    "kernelspec": {
      "name": "python3",
      "display_name": "Python 3"
    },
    "language_info": {
      "name": "python"
    },
    "accelerator": "GPU",
    "gpuClass": "standard"
  },
  "cells": [
    {
      "cell_type": "markdown",
      "metadata": {
        "id": "view-in-github",
        "colab_type": "text"
      },
      "source": [
        "<a href=\"https://colab.research.google.com/github/Ekaterina4177/statistics/blob/main/HM4.ipynb\" target=\"_parent\"><img src=\"https://colab.research.google.com/assets/colab-badge.svg\" alt=\"Open In Colab\"/></a>"
      ]
    },
    {
      "cell_type": "markdown",
      "source": [
        "1. **Случайная непрерывная величина A имеет равномерное распределение на промежутке (200, 800]. Найдите ее среднее значение и дисперсию.**"
      ],
      "metadata": {
        "id": "ITdDTpySPIkt"
      }
    },
    {
      "cell_type": "markdown",
      "source": [
        "Используем формулы для определения мат. ожидания и дисперсии для случайной непрерывной величины X, равномерно распределённой на отрезке [a; b]:  \n",
        "Математическое ожидание: M(X) = a+b/2\n",
        "\n",
        "Дисперсия: D(X) = (b-a)^2/12    "
      ],
      "metadata": {
        "id": "94-3yclxPUUl"
      }
    },
    {
      "cell_type": "code",
      "execution_count": 4,
      "metadata": {
        "colab": {
          "base_uri": "https://localhost:8080/"
        },
        "id": "ARFn_SzOOiRV",
        "outputId": "3f76f074-2e8e-40e1-cd6a-b4bf2a25d7de"
      },
      "outputs": [
        {
          "output_type": "stream",
          "name": "stdout",
          "text": [
            "На промежутке (200;800] cреднее значение: М(А) = 500.0 дисперсия: D(A) = 30000.0\n"
          ]
        }
      ],
      "source": [
        "def mean_variance(a,b):\n",
        "    return f'На промежутке ({a};{b}] cреднее значение: М(А) = {(a+b)/2} дисперсия: D(A) = {((b-a)**2)/12}'\n",
        "print(mean_variance(200,800))"
      ]
    },
    {
      "cell_type": "markdown",
      "source": [
        "2. **О случайной непрерывной равномерно распределенной величине B известно, что ее дисперсия равна 0.2. Можно ли найти правую границу величины B и ее среднее значение зная, что левая граница равна 0.5? Если да, найдите ее.**"
      ],
      "metadata": {
        "id": "IXxnaS5rQgqq"
      }
    },
    {
      "cell_type": "markdown",
      "source": [
        "Дисперсия случайной непрерывной равномерно распределённой на отрезке находится по формуле из первого задания. \n",
        "\n",
        "При имеющихся значениях D(B) = 0.2 и a = 0.5  \n",
        "Найдем правую границу b величины B и найдем среднее значение:  "
      ],
      "metadata": {
        "id": "AcGTa-EPQwEd"
      }
    },
    {
      "cell_type": "code",
      "source": [
        "b=0.5+2.4**(1/2)\n",
        "print(f'Правая граница В - b = {b: .2f}\\n'\n",
        "      f'Среднее значение В на промежутке (0.5; {b: .2f}) M(B) = {(b+0.5)/2: .4f}')"
      ],
      "metadata": {
        "colab": {
          "base_uri": "https://localhost:8080/"
        },
        "id": "CMkwnFeYQqw_",
        "outputId": "ae34821d-278e-4625-f2fc-c50d6a1d1353"
      },
      "execution_count": 8,
      "outputs": [
        {
          "output_type": "stream",
          "name": "stdout",
          "text": [
            "Правая граница В - b =  2.05\n",
            "Среднее значение В на промежутке (0.5;  2.05) M(B) =  1.2746\n"
          ]
        }
      ]
    },
    {
      "cell_type": "markdown",
      "source": [
        "3. **Непрерывная случайная величина X распределена нормально и задана плотностью распределения** $f(x) = (1 / (4 * sqrt(2pi))) * exp((-(x+2)**2) / 32)$\n",
        "\n",
        "**Найдите:**\n",
        "\n",
        "а) M(X)\n",
        "\n",
        "б) D(X)\n",
        "\n",
        "в) std(X) (среднее квадратичное отклонение)"
      ],
      "metadata": {
        "id": "h3E4SRIfSsbm"
      }
    },
    {
      "cell_type": "markdown",
      "source": [
        "Из формулы плотности нормального распределения, указанной в условиях задачи, вычислим: \n",
        "\n",
        "$M(X) = a = -2\\\\\\sigma = 4\\\\D(X) = \\sigma^2 = 16$"
      ],
      "metadata": {
        "id": "RKUll2mUTfRX"
      }
    },
    {
      "cell_type": "markdown",
      "source": [
        "5. **На сколько сигм (средних квадратичных отклонений) отклоняется рост человека, равный 190 см, от математического ожидания роста в популяции, в которой M(X) = 178 см и D(X) = 25 кв.см?**"
      ],
      "metadata": {
        "id": "5RC9HQwxUOap"
      }
    },
    {
      "cell_type": "markdown",
      "source": [
        "Формула для расчета:\n",
        "$\\displaystyle Z=\\frac{X-\\bar x}{\\sigma}$\n",
        ", подставим значения:"
      ],
      "metadata": {
        "id": "9icV8MA1UTCM"
      }
    },
    {
      "cell_type": "code",
      "source": [
        "Z=(190-178)/25**(1/2)\n",
        "print(f'Отклонение роста на {Z} сигмы')"
      ],
      "metadata": {
        "colab": {
          "base_uri": "https://localhost:8080/"
        },
        "id": "mo9BoXlnUmcb",
        "outputId": "d0952007-4add-41e5-e107-dc23f86fc3d1"
      },
      "execution_count": 16,
      "outputs": [
        {
          "output_type": "stream",
          "name": "stdout",
          "text": [
            "Отклонение роста на 2.4 сигмы\n"
          ]
        }
      ]
    }
  ]
}